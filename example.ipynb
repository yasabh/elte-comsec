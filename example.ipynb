{
 "cells": [
  {
   "cell_type": "code",
   "execution_count": null,
   "metadata": {
    "collapsed": true,
    "pycharm": {
     "is_executing": true
    }
   },
   "outputs": [],
   "source": [
    "# https://www.w3schools.com/python/python_ref_string.asp"
   ]
  },
  {
   "cell_type": "code",
   "execution_count": 16,
   "outputs": [
    {
     "name": "stdout",
     "output_type": "stream",
     "text": [
      "hello world\n"
     ]
    }
   ],
   "source": [
    "text = \"Hello World\"\n",
    "\n",
    "print(text.lower())"
   ],
   "metadata": {
    "collapsed": false
   }
  },
  {
   "cell_type": "code",
   "execution_count": 17,
   "outputs": [
    {
     "name": "stdout",
     "output_type": "stream",
     "text": [
      "HELLO WORLD\n"
     ]
    }
   ],
   "source": [
    "print(text.upper())"
   ],
   "metadata": {
    "collapsed": false
   }
  },
  {
   "cell_type": "code",
   "execution_count": 20,
   "outputs": [
    {
     "name": "stdout",
     "output_type": "stream",
     "text": [
      "a b cd\n",
      "abcd\n"
     ]
    }
   ],
   "source": [
    "a = ['a', 'b', 'cd']\n",
    "\n",
    "print(' '.join(a))\n",
    "print(''.join(a))"
   ],
   "metadata": {
    "collapsed": false
   }
  },
  {
   "cell_type": "code",
   "execution_count": 21,
   "outputs": [
    {
     "name": "stdout",
     "output_type": "stream",
     "text": [
      "asd\n",
      "asdbsd\n"
     ]
    }
   ],
   "source": [
    "text = 'asd'\n",
    "print(text)\n",
    "text += 'bsd'\n",
    "print(text)"
   ],
   "metadata": {
    "collapsed": false
   }
  },
  {
   "cell_type": "code",
   "execution_count": 22,
   "outputs": [
    {
     "name": "stdout",
     "output_type": "stream",
     "text": [
      "a\n"
     ]
    }
   ],
   "source": [
    "print(text[0])"
   ],
   "metadata": {
    "collapsed": false
   }
  },
  {
   "cell_type": "code",
   "execution_count": 23,
   "outputs": [
    {
     "name": "stdout",
     "output_type": "stream",
     "text": [
      "s\n"
     ]
    }
   ],
   "source": [
    "print(text[1])"
   ],
   "metadata": {
    "collapsed": false
   }
  },
  {
   "cell_type": "code",
   "execution_count": 26,
   "outputs": [
    {
     "name": "stdout",
     "output_type": "stream",
     "text": [
      "d\n"
     ]
    }
   ],
   "source": [
    "print(text[-1])"
   ],
   "metadata": {
    "collapsed": false
   }
  },
  {
   "cell_type": "code",
   "execution_count": 28,
   "outputs": [
    {
     "name": "stdout",
     "output_type": "stream",
     "text": [
      "asdb\n"
     ]
    }
   ],
   "source": [
    "print(text[0:4])"
   ],
   "metadata": {
    "collapsed": false
   }
  },
  {
   "cell_type": "code",
   "execution_count": 29,
   "outputs": [
    {
     "name": "stdout",
     "output_type": "stream",
     "text": [
      "asdbsdasdbsd\n"
     ]
    }
   ],
   "source": [
    "print(text + text)"
   ],
   "metadata": {
    "collapsed": false
   }
  },
  {
   "cell_type": "code",
   "execution_count": 32,
   "outputs": [
    {
     "name": "stdout",
     "output_type": "stream",
     "text": [
      "['a', 'b', 'c']\n",
      "abc\n"
     ]
    }
   ],
   "source": [
    "l = ['a','b','c']\n",
    "'abc'\n",
    "print(l)\n",
    "print(''.join(l))"
   ],
   "metadata": {
    "collapsed": false
   }
  },
  {
   "cell_type": "code",
   "execution_count": 31,
   "outputs": [
    {
     "name": "stdout",
     "output_type": "stream",
     "text": [
      "b\n"
     ]
    }
   ],
   "source": [
    "print(l[1])"
   ],
   "metadata": {
    "collapsed": false
   }
  },
  {
   "cell_type": "code",
   "execution_count": 33,
   "outputs": [
    {
     "name": "stdout",
     "output_type": "stream",
     "text": [
      "['a', 'b']\n"
     ]
    }
   ],
   "source": [
    "print(l[0:2])"
   ],
   "metadata": {
    "collapsed": false
   }
  },
  {
   "cell_type": "code",
   "execution_count": 34,
   "outputs": [
    {
     "name": "stdout",
     "output_type": "stream",
     "text": [
      "a\n",
      "s\n",
      "d\n",
      "b\n",
      "s\n",
      "d\n"
     ]
    }
   ],
   "source": [
    "for c in text:\n",
    "    print(c)"
   ],
   "metadata": {
    "collapsed": false
   }
  },
  {
   "cell_type": "code",
   "execution_count": 35,
   "outputs": [
    {
     "name": "stdout",
     "output_type": "stream",
     "text": [
      "a\n",
      "b\n",
      "c\n"
     ]
    }
   ],
   "source": [
    "for item in l:\n",
    "    print(item)"
   ],
   "metadata": {
    "collapsed": false
   }
  },
  {
   "cell_type": "code",
   "execution_count": 38,
   "outputs": [
    {
     "name": "stdout",
     "output_type": "stream",
     "text": [
      "efg\n"
     ]
    }
   ],
   "source": [
    "text2 = \"\"\n",
    "text = 'ABCefgDD'\n",
    "for c in text:\n",
    "    if c.islower():\n",
    "        text2 += c\n",
    "\n",
    "print(text2)"
   ],
   "metadata": {
    "collapsed": false
   }
  },
  {
   "cell_type": "code",
   "execution_count": 2,
   "outputs": [
    {
     "name": "stdout",
     "output_type": "stream",
     "text": [
      "[2, 4, 10, 12]\n"
     ]
    }
   ],
   "source": [
    "l2 = [1,2,3,4,10,12,13]\n",
    "l3 = []\n",
    "for item in l2:\n",
    "    if item % 2 == 0:\n",
    "        l3.append(item)\n",
    "\n",
    "print(l3)"
   ],
   "metadata": {
    "collapsed": false,
    "ExecuteTime": {
     "end_time": "2023-09-20T19:21:56.119321Z",
     "start_time": "2023-09-20T19:21:56.014679Z"
    }
   }
  },
  {
   "cell_type": "code",
   "execution_count": 3,
   "outputs": [
    {
     "name": "stdout",
     "output_type": "stream",
     "text": [
      "[2, 4, 10, 12]\n"
     ]
    }
   ],
   "source": [
    "l4 = [item for item in l2 if item % 2 == 0]\n",
    "print(l4)"
   ],
   "metadata": {
    "collapsed": false,
    "ExecuteTime": {
     "end_time": "2023-09-20T19:22:13.505829Z",
     "start_time": "2023-09-20T19:22:13.403493Z"
    }
   }
  },
  {
   "cell_type": "code",
   "execution_count": 8,
   "outputs": [
    {
     "name": "stdout",
     "output_type": "stream",
     "text": [
      "['a', 'a', 'a', 'a']\n"
     ]
    }
   ],
   "source": [
    "print([2 * item for item in l2])"
   ],
   "metadata": {
    "collapsed": false,
    "ExecuteTime": {
     "end_time": "2023-09-20T19:24:46.988828Z",
     "start_time": "2023-09-20T19:24:46.925901Z"
    }
   }
  },
  {
   "cell_type": "code",
   "execution_count": null,
   "outputs": [],
   "source": [
    "# https://docs.python.org/3/library/functions.html"
   ],
   "metadata": {
    "collapsed": false
   }
  },
  {
   "cell_type": "code",
   "execution_count": 44,
   "outputs": [
    {
     "name": "stdout",
     "output_type": "stream",
     "text": [
      "5\n"
     ]
    }
   ],
   "source": [
    "print(len([1,2,34,5,6]))"
   ],
   "metadata": {
    "collapsed": false
   }
  },
  {
   "cell_type": "code",
   "execution_count": 45,
   "outputs": [
    {
     "name": "stdout",
     "output_type": "stream",
     "text": [
      "123\n"
     ]
    }
   ],
   "source": [
    "print(abs(-123))"
   ],
   "metadata": {
    "collapsed": false
   }
  },
  {
   "cell_type": "code",
   "execution_count": 46,
   "outputs": [
    {
     "name": "stdout",
     "output_type": "stream",
     "text": [
      "0b1111011\n"
     ]
    }
   ],
   "source": [
    "print(bin(123))"
   ],
   "metadata": {
    "collapsed": false
   }
  },
  {
   "cell_type": "code",
   "execution_count": 47,
   "outputs": [
    {
     "name": "stdout",
     "output_type": "stream",
     "text": [
      "0x7b\n"
     ]
    }
   ],
   "source": [
    "print(hex(123))"
   ],
   "metadata": {
    "collapsed": false
   }
  },
  {
   "cell_type": "code",
   "execution_count": 49,
   "outputs": [
    {
     "name": "stdout",
     "output_type": "stream",
     "text": [
      "0 hex=0x0 bin=0b0\n",
      "1 hex=0x1 bin=0b1\n",
      "2 hex=0x2 bin=0b10\n",
      "3 hex=0x3 bin=0b11\n",
      "4 hex=0x4 bin=0b100\n",
      "5 hex=0x5 bin=0b101\n",
      "6 hex=0x6 bin=0b110\n",
      "7 hex=0x7 bin=0b111\n",
      "8 hex=0x8 bin=0b1000\n",
      "9 hex=0x9 bin=0b1001\n",
      "10 hex=0xa bin=0b1010\n",
      "11 hex=0xb bin=0b1011\n",
      "12 hex=0xc bin=0b1100\n",
      "13 hex=0xd bin=0b1101\n",
      "14 hex=0xe bin=0b1110\n",
      "15 hex=0xf bin=0b1111\n",
      "16 hex=0x10 bin=0b10000\n",
      "17 hex=0x11 bin=0b10001\n",
      "18 hex=0x12 bin=0b10010\n",
      "19 hex=0x13 bin=0b10011\n",
      "20 hex=0x14 bin=0b10100\n",
      "21 hex=0x15 bin=0b10101\n",
      "22 hex=0x16 bin=0b10110\n",
      "23 hex=0x17 bin=0b10111\n",
      "24 hex=0x18 bin=0b11000\n",
      "25 hex=0x19 bin=0b11001\n",
      "26 hex=0x1a bin=0b11010\n",
      "27 hex=0x1b bin=0b11011\n",
      "28 hex=0x1c bin=0b11100\n",
      "29 hex=0x1d bin=0b11101\n",
      "30 hex=0x1e bin=0b11110\n",
      "31 hex=0x1f bin=0b11111\n",
      "32 hex=0x20 bin=0b100000\n",
      "33 hex=0x21 bin=0b100001\n",
      "34 hex=0x22 bin=0b100010\n",
      "35 hex=0x23 bin=0b100011\n",
      "36 hex=0x24 bin=0b100100\n",
      "37 hex=0x25 bin=0b100101\n",
      "38 hex=0x26 bin=0b100110\n",
      "39 hex=0x27 bin=0b100111\n",
      "40 hex=0x28 bin=0b101000\n",
      "41 hex=0x29 bin=0b101001\n",
      "42 hex=0x2a bin=0b101010\n",
      "43 hex=0x2b bin=0b101011\n",
      "44 hex=0x2c bin=0b101100\n",
      "45 hex=0x2d bin=0b101101\n",
      "46 hex=0x2e bin=0b101110\n",
      "47 hex=0x2f bin=0b101111\n",
      "48 hex=0x30 bin=0b110000\n",
      "49 hex=0x31 bin=0b110001\n"
     ]
    }
   ],
   "source": [
    "for i in range(50):\n",
    "    print(f'{i} hex={hex(i)} bin={bin(i)}')"
   ],
   "metadata": {
    "collapsed": false
   }
  },
  {
   "cell_type": "code",
   "execution_count": 53,
   "outputs": [
    {
     "name": "stdout",
     "output_type": "stream",
     "text": [
      "<class 'str'>\n",
      "17\n",
      "59\n"
     ]
    },
    {
     "ename": "TypeError",
     "evalue": "can only concatenate str (not \"int\") to str",
     "output_type": "error",
     "traceback": [
      "\u001B[0;31m---------------------------------------------------------------------------\u001B[0m",
      "\u001B[0;31mTypeError\u001B[0m                                 Traceback (most recent call last)",
      "Cell \u001B[0;32mIn[53], line 5\u001B[0m\n\u001B[1;32m      2\u001B[0m \u001B[38;5;28mprint\u001B[39m(\u001B[38;5;241m0x11\u001B[39m)\n\u001B[1;32m      3\u001B[0m \u001B[38;5;28mprint\u001B[39m(\u001B[38;5;241m0x11\u001B[39m \u001B[38;5;241m+\u001B[39m \u001B[38;5;241m11\u001B[39m \u001B[38;5;241m+\u001B[39m \u001B[38;5;241m0b11111\u001B[39m)\n\u001B[0;32m----> 5\u001B[0m \u001B[38;5;28mprint\u001B[39m(\u001B[38;5;28;43mhex\u001B[39;49m\u001B[43m(\u001B[49m\u001B[38;5;241;43m123\u001B[39;49m\u001B[43m)\u001B[49m\u001B[43m \u001B[49m\u001B[38;5;241;43m+\u001B[39;49m\u001B[43m \u001B[49m\u001B[38;5;241;43m0x11\u001B[39;49m)\n",
      "\u001B[0;31mTypeError\u001B[0m: can only concatenate str (not \"int\") to str"
     ]
    }
   ],
   "source": [
    "print(type(hex(123)))\n",
    "print(0x11)\n",
    "print(0x11 + 11 + 0b11111)\n",
    "\n",
    "print(hex(123) + 0x11)"
   ],
   "metadata": {
    "collapsed": false
   }
  },
  {
   "cell_type": "code",
   "execution_count": 54,
   "outputs": [
    {
     "name": "stdout",
     "output_type": "stream",
     "text": [
      "<class 'int'>\n",
      "<class 'int'>\n",
      "<class 'int'>\n",
      "<class 'str'>\n",
      "<class 'bool'>\n"
     ]
    }
   ],
   "source": [
    "print(type(12))\n",
    "print(type(0b11))\n",
    "print(type(0x11))\n",
    "print(type('11'))\n",
    "print(type(False))"
   ],
   "metadata": {
    "collapsed": false
   }
  },
  {
   "cell_type": "code",
   "execution_count": 55,
   "outputs": [
    {
     "name": "stdout",
     "output_type": "stream",
     "text": [
      "a\n",
      "a\n"
     ]
    }
   ],
   "source": [
    "print(chr(0x61))\n",
    "print(chr(97))"
   ],
   "metadata": {
    "collapsed": false
   }
  },
  {
   "cell_type": "code",
   "execution_count": 56,
   "outputs": [
    {
     "name": "stdout",
     "output_type": "stream",
     "text": [
      "Of course\n"
     ]
    }
   ],
   "source": [
    "if 0x61 == 97:\n",
    "    print('Of course')"
   ],
   "metadata": {
    "collapsed": false
   }
  },
  {
   "cell_type": "code",
   "execution_count": 59,
   "outputs": [
    {
     "name": "stdout",
     "output_type": "stream",
     "text": [
      "0x61=a  (in decimal: 97)\n",
      "0x62=b  (in decimal: 98)\n",
      "0x63=c  (in decimal: 99)\n",
      "0x64=d  (in decimal: 100)\n",
      "0x65=e  (in decimal: 101)\n",
      "0x66=f  (in decimal: 102)\n",
      "0x67=g  (in decimal: 103)\n",
      "0x68=h  (in decimal: 104)\n",
      "0x69=i  (in decimal: 105)\n",
      "0x6a=j  (in decimal: 106)\n",
      "0x6b=k  (in decimal: 107)\n",
      "0x6c=l  (in decimal: 108)\n",
      "0x6d=m  (in decimal: 109)\n",
      "0x6e=n  (in decimal: 110)\n",
      "0x6f=o  (in decimal: 111)\n",
      "0x70=p  (in decimal: 112)\n",
      "0x71=q  (in decimal: 113)\n",
      "0x72=r  (in decimal: 114)\n",
      "0x73=s  (in decimal: 115)\n",
      "0x74=t  (in decimal: 116)\n",
      "0x75=u  (in decimal: 117)\n",
      "0x76=v  (in decimal: 118)\n",
      "0x77=w  (in decimal: 119)\n",
      "0x78=x  (in decimal: 120)\n",
      "0x79=y  (in decimal: 121)\n",
      "0x7a=z  (in decimal: 122)\n"
     ]
    }
   ],
   "source": [
    "for i in range(0x61,0x7a+1):\n",
    "    print(f'{hex(i)}={chr(i)}  (in decimal: {i})')"
   ],
   "metadata": {
    "collapsed": false
   }
  },
  {
   "cell_type": "code",
   "execution_count": 58,
   "outputs": [
    {
     "name": "stdout",
     "output_type": "stream",
     "text": [
      "5\n",
      "6\n",
      "7\n",
      "8\n",
      "9\n"
     ]
    }
   ],
   "source": [
    "for i in range(5,10):\n",
    "    print(i)"
   ],
   "metadata": {
    "collapsed": false
   }
  },
  {
   "cell_type": "code",
   "execution_count": 61,
   "outputs": [
    {
     "name": "stdout",
     "output_type": "stream",
     "text": [
      "97\n",
      "122\n",
      "119\n"
     ]
    }
   ],
   "source": [
    "print(ord('a'))\n",
    "print(ord('z'))\n",
    "print(ord('w'))"
   ],
   "metadata": {
    "collapsed": false
   }
  },
  {
   "cell_type": "code",
   "execution_count": null,
   "outputs": [],
   "source": [],
   "metadata": {
    "collapsed": false
   }
  }
 ],
 "metadata": {
  "kernelspec": {
   "display_name": "Python 3",
   "language": "python",
   "name": "python3"
  },
  "language_info": {
   "codemirror_mode": {
    "name": "ipython",
    "version": 2
   },
   "file_extension": ".py",
   "mimetype": "text/x-python",
   "name": "python",
   "nbconvert_exporter": "python",
   "pygments_lexer": "ipython2",
   "version": "2.7.6"
  }
 },
 "nbformat": 4,
 "nbformat_minor": 0
}
